{
 "cells": [
  {
   "cell_type": "code",
   "execution_count": 1,
   "id": "ca5d0f6b",
   "metadata": {},
   "outputs": [],
   "source": [
    "import numpy as np\n",
    "import pandas as pd\n",
    "from scipy import stats"
   ]
  },
  {
   "cell_type": "code",
   "execution_count": 2,
   "id": "2752bdf7",
   "metadata": {},
   "outputs": [],
   "source": [
    "# Сформулируем нулевую гипотезу - средний рост спортсмена не зависит от вида спорта, которым он занимается(из представленных трех).\n",
    "# Альтернативная гипотеза - средний рост спортсмена зависит от выбранного им спорта."
   ]
  },
  {
   "cell_type": "code",
   "execution_count": 3,
   "id": "eb459420",
   "metadata": {},
   "outputs": [],
   "source": [
    "football=np.array([173, 175, 180, 178, 177, 185, 183, 182])\n",
    "hockey=np.array([177, 179, 180, 188, 177, 172, 171, 184, 180])\n",
    "weightlifting=np.array([172, 173, 169, 177, 166, 180, 178, 177, 172, 166, 170])"
   ]
  },
  {
   "cell_type": "code",
   "execution_count": 5,
   "id": "f8a9665c",
   "metadata": {},
   "outputs": [
    {
     "data": {
      "text/plain": [
       "F_onewayResult(statistic=5.500053450812596, pvalue=0.010482206918698694)"
      ]
     },
     "execution_count": 5,
     "metadata": {},
     "output_type": "execute_result"
    }
   ],
   "source": [
    "# Воспользуемся встроенным методом однофакторного дисперсионного анализа библиотеки scipy:\n",
    "stats.f_oneway(football, hockey, weightlifting)"
   ]
  },
  {
   "cell_type": "code",
   "execution_count": null,
   "id": "c0f80829",
   "metadata": {},
   "outputs": [],
   "source": [
    "# Получили значение p - value = 0.01048 => на уровне статистической значимости a = 0.05 отвергаем нулевую гипотезу. \n",
    "# Т.е. средний рост футболистов, хоккеистов и штангистоа различен.\n",
    "# При этом на уровне значимости a = 0.01 нулевую гипотезу отвергнуть не можем."
   ]
  }
 ],
 "metadata": {
  "kernelspec": {
   "display_name": "Python 3 (ipykernel)",
   "language": "python",
   "name": "python3"
  },
  "language_info": {
   "codemirror_mode": {
    "name": "ipython",
    "version": 3
   },
   "file_extension": ".py",
   "mimetype": "text/x-python",
   "name": "python",
   "nbconvert_exporter": "python",
   "pygments_lexer": "ipython3",
   "version": "3.9.13"
  }
 },
 "nbformat": 4,
 "nbformat_minor": 5
}
